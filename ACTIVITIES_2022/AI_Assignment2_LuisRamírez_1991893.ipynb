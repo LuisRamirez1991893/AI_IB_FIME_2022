{
  "nbformat": 4,
  "nbformat_minor": 0,
  "metadata": {
    "colab": {
      "provenance": []
    },
    "kernelspec": {
      "name": "python3",
      "display_name": "Python 3"
    },
    "language_info": {
      "name": "python"
    }
  },
  "cells": [
    {
      "cell_type": "markdown",
      "source": [
        "**Luis Antonio Ramírez Garza #1991893**   \n",
        "Artificial Intelligence Class 001 A2022"
      ],
      "metadata": {
        "id": "Q4xB-NM-1-F7"
      }
    },
    {
      "cell_type": "markdown",
      "source": [
        "EXERCISES:\n",
        "Create a python script where the user is going to be asked for the name. After that, the program will greet the user with the given name. Only exception: the script will not greet the user if the given name is \"Ana\",\"John\" or \"Peter\"."
      ],
      "metadata": {
        "id": "VL7xAVRVZefK"
      }
    },
    {
      "cell_type": "code",
      "execution_count": 55,
      "metadata": {
        "colab": {
          "base_uri": "https://localhost:8080/"
        },
        "id": "s8ZZkCZbXNKG",
        "outputId": "3c98a7b8-cd44-4305-84b0-3afb48c13355"
      },
      "outputs": [
        {
          "output_type": "stream",
          "name": "stdout",
          "text": [
            "What is your name?\n",
            "Luis\n",
            "Hello, Luis\n"
          ]
        }
      ],
      "source": [
        "print(\"What is your name?\")  #We define which question is going to be made.\n",
        "name=input()   #We declare a \"name\" variable which will contain user's answer.\n",
        "if name==\"Ana\": #We check if the name is Ana.\n",
        "  print(\" \") #Script does not print anything.\n",
        "elif name==\"John\": #We check if the name is John.\n",
        "  print(\" \") #Script does not print anything.\n",
        "elif name==\"Peter\": #Finally, we check if the name is Peter.\n",
        "  print(\" \") #Script does not print anything again.\n",
        "else: #For any other name...\n",
        "  print(\"Hello,\",name) #Script prints a salute"
      ]
    },
    {
      "cell_type": "markdown",
      "source": [
        "Create a function in a python script that returns (print) the last element of a given list, reverts the order of the list and finally returns (print) the reverted list."
      ],
      "metadata": {
        "id": "K4-rMLzbZ3qO"
      }
    },
    {
      "cell_type": "code",
      "source": [
        "color=[\"Yellow\",\"Fucsia\",\"Beige\",\"Cyan\",\"Pink\",\"Magenta\"] #We define our list.\n",
        "def lastcolor(): #We define a new function called lastcolor.\n",
        " print(\"The final color is \\\"\",color[-1]+\"\\\"\") #function is going to print the content in the last position.\n",
        "lastcolor() #We call our function to get the solution.\n",
        "color.reverse() #We use \".reverse\" to list our string backwards.\n",
        "print(\"Reversed color list: \", color) #We print the reversed list calling the string with its original name."
      ],
      "metadata": {
        "colab": {
          "base_uri": "https://localhost:8080/"
        },
        "id": "PjK2hrqNX1G0",
        "outputId": "62c1eeae-4933-4dfc-d586-67dc03933241"
      },
      "execution_count": 56,
      "outputs": [
        {
          "output_type": "stream",
          "name": "stdout",
          "text": [
            "The final color is \" Magenta\"\n",
            "Reversed color list:  ['Magenta', 'Pink', 'Cyan', 'Beige', 'Fucsia', 'Yellow']\n"
          ]
        }
      ]
    },
    {
      "cell_type": "markdown",
      "source": [
        "Create a function in a python script that takes a list of strings as input and then it prints, line by line, the whole list in a rectangular shape."
      ],
      "metadata": {
        "id": "LRpxPghvaECU"
      }
    },
    {
      "cell_type": "code",
      "source": [
        "print(\"Type the string\") #We declare the instruction given to the user.\n",
        "string=input() #We define a new variable with the user's answer.\n",
        "list=string.split() #Since we can get a whole sentence, we split the content in individual words.\n",
        "m=len(max(list,key=len)) #We measure the number of letters in the longest word in our list.\n",
        "columns =m+7 #We define the number of columns based on the extension of the longest word plus a constant.\n",
        "\n",
        "def rectangular_box(): #We define our new function.\n",
        "  print(\"*\"*columns) #We print a \"*\" as many times as columns we have.\n",
        "  for x in list: #We start a for cicle considering every word in our list.\n",
        "    print(\"*   \"+x+\" \"*(m-len(x))+\"  *\") #The output is going to be shaped using * and blank spaces\n",
        "    #considering the difference between the longest word and the one in each row. This would help us to\n",
        "    #shape the fourth side of the rectangle in a uniform way.\n",
        "  print(\"*\"*columns) #We cover the bottom with the same structure from the top.\n",
        "rectangular_box() #We call the function."
      ],
      "metadata": {
        "colab": {
          "base_uri": "https://localhost:8080/"
        },
        "id": "c2phSzhLo-5j",
        "outputId": "edec5423-a51a-4a5b-f31e-8d8d53e96e26"
      },
      "execution_count": 58,
      "outputs": [
        {
          "output_type": "stream",
          "name": "stdout",
          "text": [
            "Type the string\n",
            "Have a nice day\n",
            "***********\n",
            "*   Have  *\n",
            "*   a     *\n",
            "*   nice  *\n",
            "*   day   *\n",
            "***********\n"
          ]
        }
      ]
    }
  ]
}